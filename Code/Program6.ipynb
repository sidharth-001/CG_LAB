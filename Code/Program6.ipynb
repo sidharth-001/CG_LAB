{
  "nbformat": 4,
  "nbformat_minor": 0,
  "metadata": {
    "colab": {
      "name": "Program6.ipynb",
      "provenance": [],
      "collapsed_sections": []
    },
    "kernelspec": {
      "name": "python3",
      "display_name": "Python 3"
    }
  },
  "cells": [
    {
      "cell_type": "markdown",
      "metadata": {
        "id": "AlkE27Iwxbn6"
      },
      "source": [
        "# **Program 6**\r\n",
        "\r\n",
        "___"
      ]
    },
    {
      "cell_type": "markdown",
      "metadata": {
        "id": "MrKtOCVEy-iJ"
      },
      "source": [
        "\r\n",
        "## **Aim:** \r\n",
        "Write a program to clip line using Cyrus beck Algorithm. All the cases discussed in class has to be demonstrated."
      ]
    },
    {
      "cell_type": "markdown",
      "metadata": {
        "id": "gwqXX9Voy4kK"
      },
      "source": [
        "## **Theory:**\r\n",
        "\r\n",
        "The Cyrus–Beck algorithm is a generalized line clipping algorithm. It was designed to be more efficient than the Cohen–Sutherland algorithm, which uses repetitive clipping.[1] Cyrus–Beck is a general algorithm and can be used with a convex polygon clipping window, unlike Sutherland–Cohen, which can be used only on a rectangular clipping area.\r\n",
        "\r\n",
        "Here the parametric equation of a line in the view plane is\r\n",
        "\r\n",
        "\\begin{aligned}\\mathbf {p} (t)&=t\\mathbf {p} _{1}+(1-t)\\mathbf {p} _{0}\\\\\\end{aligned}"
      ]
    },
    {
      "cell_type": "markdown",
      "metadata": {
        "id": "SkZJKNBHytkZ"
      },
      "source": [
        "## **Algorithm:**\r\n",
        "\r\n",
        "* Normals of every edge is calculated.\r\n",
        "* Vector for the clipping line is calculated.\r\n",
        "* Dot product between the difference of one vertex per edge and one selected end point of the clipping line and the normal of the edge is calculated (for all edges).\r\n",
        "* Dot product between the vector of the clipping line and the normal of edge (for all edges) is calculated.\r\n",
        "* The former dot product is divided by the latter dot product and multiplied by -1. This is ‘t’.\r\n",
        "* The values of ‘t’ are classified as entering or exiting (from all edges) by observing their denominators (latter dot product).\r\n",
        "* One value of ‘t’ is chosen from each group, and put into the parametric form of a line to calculate the coordinates.\r\n",
        "* If the entering ‘t’ value is greater than the exiting ‘t’ value, then the clipping line is rejected."
      ]
    },
    {
      "cell_type": "code",
      "metadata": {
        "id": "gu1QemCgzuXF"
      },
      "source": [
        "import numpy as np\r\n",
        "import matplotlib.pyplot as plt\r\n",
        "from PIL import Image\r\n",
        "\r\n",
        "def ROUND(a):\r\n",
        "\r\n",
        "  return int(a + 0.5)\r\n",
        "\r\n",
        "def drawDDA(x1,y1,x2,y2,img):\r\n",
        "\r\n",
        "  x,y = x1,y1\r\n",
        "  length = (x2-x1) if (x2-x1) > (y2-y1) else (y2-y1)\r\n",
        "\r\n",
        "  dx = (x2-x1)/float(length)\r\n",
        "\r\n",
        "  dy = (y2-y1)/float(length)\r\n",
        "\r\n",
        "  img.putpixel((ROUND(x),ROUND(y)),1)\r\n",
        "\r\n",
        "  for i in range(length):\r\n",
        "\r\n",
        "    x += dx\r\n",
        "\r\n",
        "    y += dy\r\n",
        "\r\n",
        "    img.putpixel((ROUND(x),ROUND(y)),1)"
      ],
      "execution_count": 8,
      "outputs": []
    },
    {
      "cell_type": "code",
      "metadata": {
        "colab": {
          "base_uri": "https://localhost:8080/",
          "height": 269
        },
        "id": "ywJNl7Gv0H7w",
        "outputId": "d515b3f3-cefb-4942-c51b-fda2568397fa"
      },
      "source": [
        "img = Image.fromarray(np.zeros((150, 150), dtype=np.float32), mode= \"F\")\r\n",
        "\r\n",
        "drawDDA(30,40,70,25,img)\r\n",
        "drawDDA(70, 25,125, 40,img)  \r\n",
        "drawDDA(125, 40, 100, 100,img) \r\n",
        "drawDDA(50,90,100,100,img)\r\n",
        "drawDDA(30,40,50,90,img)\r\n",
        "\r\n",
        "drawDDA(95,45,100,90,img)\r\n",
        "drawDDA(45,95,80,20,img)\r\n",
        "drawDDA(85,25,140,30,img)\r\n",
        "drawDDA(105,50,120,100,img)\r\n",
        "plt.imshow(np.array(img),cmap='binary')\r\n",
        "plt.savefig('OP1')"
      ],
      "execution_count": 9,
      "outputs": [
        {
          "output_type": "display_data",
          "data": {
            "image/png": "[encoded data removed]",
            "text/plain": [
              "<Figure size 432x288 with 1 Axes>"
            ]
          },
          "metadata": {
            "tags": [],
            "needs_background": "light"
          }
        }
      ]
    },
    {
      "cell_type": "code",
      "metadata": {
        "id": "T2uIp8AB0Ntj"
      },
      "source": [
        "\r\n",
        "\r\n",
        "\r\n",
        "\r\n",
        "\r\n",
        "\r\n",
        "\r\n",
        "Points = np.array([[30 , 40],\r\n",
        "                   [70 , 25],\r\n",
        "                   [125, 40],\r\n",
        "                   [100,100],\r\n",
        "                   [50 , 90],\r\n",
        "                   [30 , 40]])\r\n",
        "\r\n",
        "def perpendicular( a ) :\r\n",
        "    b = np.empty_like(a)\r\n",
        "    b[0] = -a[1]\r\n",
        "    b[1] = a[0]\r\n",
        "    return b\r\n",
        "\r\n",
        "def normalize(a):\r\n",
        "    a = np.array(a)\r\n",
        "    return a/np.linalg.norm(a)\r\n",
        "\r\n",
        "\r\n",
        "normals =[]\r\n",
        "\r\n",
        "for i in range(5):\r\n",
        "  vec= Points[i]-Points[i+1]\r\n",
        "  temp=perpendicular(vec)\r\n",
        "  temp=normalize(temp)\r\n",
        "  normals.append(temp)\r\n"
      ],
      "execution_count": null,
      "outputs": []
    },
    {
      "cell_type": "code",
      "metadata": {
        "id": "-ap0TMwa0rSH"
      },
      "source": [
        "\r\n",
        "img2 = Image.fromarray(np.zeros((150, 150), dtype=np.float32), mode= \"F\")\r\n",
        "\r\n",
        "drawDDA(30,40,70,25,img2)\r\n",
        "drawDDA(70, 25,125, 40,img2)  \r\n",
        "drawDDA(125, 40, 100, 100,img2) \r\n",
        "drawDDA(50,90,100,100,img2)\r\n",
        "drawDDA(30,40,50,90,img2)\r\n",
        "\r\n",
        "\r\n",
        "def CyrusBeck(x1,y1,x2,y2,normal,points):\r\n",
        "  \r\n",
        "  P1=np.array([x2,y2])\r\n",
        "  P0=np.array([x1,y1])\r\n",
        "\r\n",
        "  tE_arr = [0]\r\n",
        "  tL_arr  = [1]\r\n",
        "  for i in range(len(normals)):\r\n",
        "\r\n",
        "    Pe=points[i]\r\n",
        "    n=normals[i]\r\n",
        "    try:\r\n",
        "      t_temp= -1*np.dot(n,P0-Pe)/(np.dot(n,P1-P0))\r\n",
        "      denom= np.dot(n,P1-P0)\r\n",
        "\r\n",
        "      if denom<0:\r\n",
        "        tE_arr.append(t_temp)\r\n",
        "\r\n",
        "      else:\r\n",
        "        tL_arr.append(t_temp)\r\n",
        "\r\n",
        "    except:\r\n",
        "      continue\r\n",
        "\r\n",
        "  tE=max(tE_arr)\r\n",
        "    \r\n",
        "  tL=min(tL_arr)\r\n",
        "    \r\n",
        "  print('tE= {} \\ntL={} \\n'.format(tE,tL) )\r\n",
        "  if tL<tE:\r\n",
        "    print(\"Line outside\\n\")\r\n",
        "    \r\n",
        "  else:\r\n",
        "\r\n",
        "    x1_=ROUND(x1+(x2-x1)*tE)\r\n",
        "    x2_=ROUND(x1+(x2-x1)*tL)\r\n",
        "    y1_=ROUND(y1+(y2-y1)*tE)\r\n",
        "    y2_=ROUND(y1+(y2-y1)*tL)\r\n",
        "\r\n",
        "    drawDDA(x1_,y1_,x2_,y2_,img2)\r\n"
      ],
      "execution_count": null,
      "outputs": []
    },
    {
      "cell_type": "code",
      "metadata": {
        "colab": {
          "base_uri": "https://localhost:8080/",
          "height": 518
        },
        "id": "rpGgKtXG0ul_",
        "outputId": "5ca97b36-039a-4cc0-9d39-e9e0a01721d4"
      },
      "source": [
        "CyrusBeck(95,45,100,90,normals,Points)\r\n",
        "CyrusBeck(45,95,80,20,normals,Points)\r\n",
        "CyrusBeck(85,25,140,30,normals,Points)\r\n",
        "CyrusBeck(105,50,120,100,normals,Points)\r\n",
        "\r\n",
        "plt.imshow(np.array(img2),cmap='binary')\r\n",
        "plt.savefig('OP2')"
      ],
      "execution_count": null,
      "outputs": [
        {
          "output_type": "stream",
          "text": [
            "tE= 0 \n",
            "tL=1 \n",
            "\n",
            "tE= 0.10769230769230767 \n",
            "tL=0.9086021505376345 \n",
            "\n",
            "tE= 0 \n",
            "tL=-0.4090909090909091 \n",
            "\n",
            "Line outside\n",
            "\n",
            "tE= 0 \n",
            "tL=0.4418604651162791 \n",
            "\n"
          ],
          "name": "stdout"
        },
        {
          "output_type": "display_data",
          "data": {
            "image/png": "[encoded data removed]",
            "text/plain": [
              "<Figure size 432x288 with 1 Axes>"
            ]
          },
          "metadata": {
            "tags": [],
            "needs_background": "light"
          }
        }
      ]
    }
  ]
}